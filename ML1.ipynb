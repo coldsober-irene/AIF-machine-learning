{
  "nbformat": 4,
  "nbformat_minor": 0,
  "metadata": {
    "colab": {
      "provenance": [],
      "authorship_tag": "ABX9TyOF3LxCOQQqL66OQvjSvA79",
      "include_colab_link": true
    },
    "kernelspec": {
      "name": "python3",
      "display_name": "Python 3"
    },
    "language_info": {
      "name": "python"
    },
    "accelerator": "GPU",
    "gpuClass": "standard"
  },
  "cells": [
    {
      "cell_type": "markdown",
      "metadata": {
        "id": "view-in-github",
        "colab_type": "text"
      },
      "source": [
        "<a href=\"https://colab.research.google.com/github/coldsober-irene/AIF-machine-learning/blob/main/ML1.ipynb\" target=\"_parent\"><img src=\"https://colab.research.google.com/assets/colab-badge.svg\" alt=\"Open In Colab\"/></a>"
      ]
    },
    {
      "cell_type": "code",
      "execution_count": null,
      "metadata": {
        "id": "D-PxehLURD2t"
      },
      "outputs": [],
      "source": [
        "import pandas as pd"
      ]
    },
    {
      "cell_type": "code",
      "source": [
        "import random as rd"
      ],
      "metadata": {
        "id": "2BnMawTTBycW"
      },
      "execution_count": null,
      "outputs": []
    },
    {
      "cell_type": "code",
      "source": [
        "from google.colab import drive"
      ],
      "metadata": {
        "id": "fTTAHEkFyjgz"
      },
      "execution_count": null,
      "outputs": []
    },
    {
      "cell_type": "code",
      "source": [
        "# mount the drive to the colab\n",
        "drive.mount(\"drive\")"
      ],
      "metadata": {
        "id": "4E21lXtSyrFw"
      },
      "execution_count": null,
      "outputs": []
    },
    {
      "cell_type": "code",
      "source": [
        "# change working directory\n",
        "import os\n",
        "os.chdir(\"/content/drive/MyDrive/AIF progress/machine learning/data\")"
      ],
      "metadata": {
        "id": "k5ITk5sIzaoi"
      },
      "execution_count": null,
      "outputs": []
    },
    {
      "cell_type": "code",
      "source": [
        "!pwd"
      ],
      "metadata": {
        "id": "R4DHcbWe1GvY"
      },
      "execution_count": null,
      "outputs": []
    },
    {
      "cell_type": "code",
      "source": [
        "!ls"
      ],
      "metadata": {
        "id": "WGCKRVqh1J2c"
      },
      "execution_count": null,
      "outputs": []
    },
    {
      "cell_type": "code",
      "source": [
        "# set to see all the rows \n",
        "pd.set_option(\"display.max_rows\", None)"
      ],
      "metadata": {
        "id": "SiRakcui1SU1"
      },
      "execution_count": null,
      "outputs": []
    },
    {
      "cell_type": "code",
      "source": [
        "excel_data = \"Data new screw Jan 23.xlsx\""
      ],
      "metadata": {
        "id": "kGU8wi7IyN-Q"
      },
      "execution_count": null,
      "outputs": []
    },
    {
      "cell_type": "code",
      "source": [
        "pandas_data = pd.read_excel(excel_data)\n",
        "# drop first 2 rows and start at headings containing time, date and so on.\n",
        "pandas_data.columns = pandas_data.iloc[1]\n"
      ],
      "metadata": {
        "id": "nTfDBeP2yR9E"
      },
      "execution_count": null,
      "outputs": []
    },
    {
      "cell_type": "code",
      "source": [
        "pandas_data.head(10)"
      ],
      "metadata": {
        "id": "vN7Jh_Ag1hXb"
      },
      "execution_count": null,
      "outputs": []
    },
    {
      "cell_type": "code",
      "source": [
        "pandas_data.tail(10)"
      ],
      "metadata": {
        "id": "jNr5iexf2kBa"
      },
      "execution_count": null,
      "outputs": []
    },
    {
      "cell_type": "code",
      "source": [
        "pandas_data # display all the data rows"
      ],
      "metadata": {
        "id": "OONl9UvB4Ktr"
      },
      "execution_count": null,
      "outputs": []
    },
    {
      "cell_type": "markdown",
      "source": [
        "DO THE SUM AND FILL NAN WITH 0"
      ],
      "metadata": {
        "id": "T63qAsLg40kJ"
      }
    },
    {
      "cell_type": "code",
      "source": [
        "# you can delete the rows with missing data or replace them.\n",
        "# deleting the rows with missing data, use pandas.dropna() method\n",
        "not_na = pandas_data.dropna()\n",
        "# show data after deleting rows with missing data\n",
        "not_na"
      ],
      "metadata": {
        "id": "briF4oZk4605"
      },
      "execution_count": null,
      "outputs": []
    },
    {
      "cell_type": "markdown",
      "source": [
        "in the above ouput, since each row contains NAN, that's why all rows except heading was deleted. in this case you can prefer replacing nan with some meaningful data such as 0"
      ],
      "metadata": {
        "id": "zJlMLHHusQd-"
      }
    },
    {
      "cell_type": "code",
      "source": [
        "# instead of deleting rows, replace nan with 0.\n",
        "without_nan = pandas_data[pandas_data.columns[5]][2:].fillna(0) # from 3rd row to the end, fill NAN with 0"
      ],
      "metadata": {
        "id": "-GE6cygF3lmJ"
      },
      "execution_count": null,
      "outputs": []
    },
    {
      "cell_type": "code",
      "source": [
        "# show data without NAN\n",
        "all_nan = pandas_data.fillna(0)"
      ],
      "metadata": {
        "id": "-BXbpl2NOisX"
      },
      "execution_count": null,
      "outputs": []
    },
    {
      "cell_type": "code",
      "source": [
        "# ENTIRE FRAME WITHOUT NAN (replace all NAN value in all rows with 0)\n",
        "all_nan"
      ],
      "metadata": {
        "id": "s0Od-JidO9MH"
      },
      "execution_count": null,
      "outputs": []
    },
    {
      "cell_type": "code",
      "source": [
        "# do sum\n",
        "overall = without_nan.sum()"
      ],
      "metadata": {
        "id": "6Y07T_Pd5Ykl"
      },
      "execution_count": null,
      "outputs": []
    },
    {
      "cell_type": "code",
      "source": [
        "overall"
      ],
      "metadata": {
        "id": "ka77P2qm5jVQ"
      },
      "execution_count": null,
      "outputs": []
    },
    {
      "cell_type": "markdown",
      "source": [
        "#DEALING WITH CATEGORICAL DATA"
      ],
      "metadata": {
        "id": "yNUDwEpEz4_O"
      }
    },
    {
      "cell_type": "code",
      "source": [
        "DATA = {\"names\":[\"irene\", \"claude\", \"desire\", \"Aimee\", \"Divine\"],\n",
        "        \"gender\":[\"male\", \"male\", \"male\", \"female\", \"female\"]}\n",
        "DATA = pd.DataFrame(DATA)"
      ],
      "metadata": {
        "id": "DNxEYxesz-DP"
      },
      "execution_count": null,
      "outputs": []
    },
    {
      "cell_type": "code",
      "source": [
        "DATA"
      ],
      "metadata": {
        "id": "PQ4aV7Lq1XfJ"
      },
      "execution_count": null,
      "outputs": []
    },
    {
      "cell_type": "code",
      "source": [
        "# change gender into numerical data that can be fitted in ML model\n",
        "ml_fit = pd.get_dummies(DATA, columns = [\"gender\"])\n",
        "ml_fit"
      ],
      "metadata": {
        "id": "2EhCzYcL0dB9"
      },
      "execution_count": null,
      "outputs": []
    },
    {
      "cell_type": "code",
      "source": [
        "pandas_data.columns"
      ],
      "metadata": {
        "id": "3OYoiisg5Kni"
      },
      "execution_count": null,
      "outputs": []
    },
    {
      "cell_type": "code",
      "source": [
        "# changing time from checklist dataset loaded in recent cells into numerical data \n",
        "time_changes = pd.get_dummies(pandas_data, columns = [\"Time\"], drop_first = True)"
      ],
      "metadata": {
        "id": "TUGElawH2zR3"
      },
      "execution_count": null,
      "outputs": []
    },
    {
      "cell_type": "code",
      "source": [
        "time_changes"
      ],
      "metadata": {
        "id": "y9y5nMLY7L4X"
      },
      "execution_count": null,
      "outputs": []
    },
    {
      "cell_type": "code",
      "source": [
        "# get first 2 rows and first 2 columns\n",
        "time_changes.iloc[4:9, 0:2]"
      ],
      "metadata": {
        "id": "7fg2dhqsjaMu"
      },
      "execution_count": null,
      "outputs": []
    },
    {
      "cell_type": "code",
      "source": [
        "time_changes.iloc[0:5] # ILOC IS FOR ROWS NUMBERING (IT IS LIKE THE NORMAL PYTHON LIST)"
      ],
      "metadata": {
        "id": "9jiR6lIdkXSB"
      },
      "execution_count": null,
      "outputs": []
    },
    {
      "cell_type": "code",
      "source": [
        "time_changes.loc[0:15] # LOC IS FOR INDEX (THIS COUNTS IN A NORMAL WAY OF COUNTING BUT ALSO INCLUDES POSITION 0)"
      ],
      "metadata": {
        "id": "yGpS50F6krLF"
      },
      "execution_count": null,
      "outputs": []
    },
    {
      "cell_type": "code",
      "source": [
        "# SPECIFIC POSITION (2,3,6): 15th row, 6th column and position 6 in that column\n",
        "time_changes.iloc[15,6]"
      ],
      "metadata": {
        "id": "23p3a_yUlnS-"
      },
      "execution_count": null,
      "outputs": []
    },
    {
      "cell_type": "markdown",
      "source": [
        "#matplotlib"
      ],
      "metadata": {
        "id": "YuI6MnwxoWgC"
      }
    },
    {
      "cell_type": "code",
      "source": [
        "import matplotlib.pyplot as plt"
      ],
      "metadata": {
        "id": "mPrPhJMUoUXm"
      },
      "execution_count": null,
      "outputs": []
    },
    {
      "cell_type": "markdown",
      "source": [
        "#bar plot"
      ],
      "metadata": {
        "id": "XEbtwFMKpCY5"
      }
    },
    {
      "cell_type": "code",
      "source": [
        "plt.bar(x = [rd.randrange(5)for i in range(5)], height = [rd.randrange(5)for i in range(5)]) # height means the upper limit of bars, while X are the data on x-axis"
      ],
      "metadata": {
        "id": "l4b2CQ6xoVHI"
      },
      "execution_count": null,
      "outputs": []
    },
    {
      "cell_type": "markdown",
      "source": [
        "# scatter plot"
      ],
      "metadata": {
        "id": "57ladLc4pG0x"
      }
    },
    {
      "cell_type": "code",
      "source": [
        "# scatter needs 2 numpy arrays.\n",
        "import random as rd\n",
        "x = []\n",
        "y = []\n",
        "plt.scatter(x = [(rd.randrange(0, 10),x.append(rd.randrange(0, 10))) for j in range(20)], y = [(rd.randrange(0, 10),y.append(rd.randrange(0, 10))) for j in range(20)])\n",
        "pd.Series(x, y)"
      ],
      "metadata": {
        "id": "1L5krOt2pAtR"
      },
      "execution_count": null,
      "outputs": []
    },
    {
      "cell_type": "markdown",
      "source": [
        "# histogram plot"
      ],
      "metadata": {
        "id": "z-QjwM0trBWC"
      }
    },
    {
      "cell_type": "code",
      "source": [
        "plt.hist(list(range(5)), 10) # requires only one dataset and specifies the number of bars which is 10 in our case."
      ],
      "metadata": {
        "id": "_j6HtayorEOi"
      },
      "execution_count": null,
      "outputs": []
    },
    {
      "cell_type": "markdown",
      "source": [
        "# box plot"
      ],
      "metadata": {
        "id": "MWAqlg35rWNQ"
      }
    },
    {
      "cell_type": "code",
      "source": [
        "plt.boxplot(x = list(range(10)))"
      ],
      "metadata": {
        "id": "dh2MMVcHrUxy"
      },
      "execution_count": null,
      "outputs": []
    },
    {
      "cell_type": "markdown",
      "source": [
        "#line plot"
      ],
      "metadata": {
        "id": "qvnZsYq7rtts"
      }
    },
    {
      "cell_type": "code",
      "source": [
        "import inspect # to help to get all function's parameters"
      ],
      "metadata": {
        "id": "ttzW2j5atWdM"
      },
      "execution_count": null,
      "outputs": []
    },
    {
      "cell_type": "code",
      "source": [
        "inspect.signature(plt.plot)"
      ],
      "metadata": {
        "id": "46FZnQagthqJ"
      },
      "execution_count": null,
      "outputs": []
    },
    {
      "cell_type": "code",
      "source": [
        "plt.plot(range(10),range(10,20))"
      ],
      "metadata": {
        "id": "xtOLOneIrwU-"
      },
      "execution_count": null,
      "outputs": []
    },
    {
      "cell_type": "code",
      "source": [
        "inspect.signature(plt.bar)"
      ],
      "metadata": {
        "id": "H7X_ewG6u80N"
      },
      "execution_count": null,
      "outputs": []
    },
    {
      "cell_type": "code",
      "source": [
        "time_changes.plot()"
      ],
      "metadata": {
        "id": "fjmMBZz5vxFo"
      },
      "execution_count": null,
      "outputs": []
    },
    {
      "cell_type": "code",
      "source": [
        "df = pandas_data.iloc[2:].fillna(0)"
      ],
      "metadata": {
        "id": "AP2FXcRvxbZI"
      },
      "execution_count": null,
      "outputs": []
    },
    {
      "cell_type": "code",
      "source": [
        "col = df.columns\n",
        "col"
      ],
      "metadata": {
        "id": "XqXaujzC2JYR"
      },
      "execution_count": null,
      "outputs": []
    },
    {
      "cell_type": "code",
      "source": [
        "cols = ['Product', 'Date', 'Time', 'Setpoint TPH', 'CMD %', 'Motor RPM 1',\n",
        "       'Screw RPM 2', 'AveFF', 'Setpoint TPH', 'CMD %', 'Motor RPM', 'Screw RPM',\n",
        "       'AveFF', 'Throughput TPH', 'Main drive torque',\n",
        "       'Main drive motor speed', 'Die pressure', 'Die Temp', 'Cutter speed',\n",
        "       'SME', 'Suction pipe clogged']\n",
        "df.columns = cols"
      ],
      "metadata": {
        "id": "_k0MWE6V2w50"
      },
      "execution_count": null,
      "outputs": []
    },
    {
      "cell_type": "code",
      "source": [
        "x_label = df['Time'].unique()\n",
        "df_copy = df.iloc[:, 0:len(x_label)]"
      ],
      "metadata": {
        "id": "WuQ0UDSZ5lJv"
      },
      "execution_count": null,
      "outputs": []
    },
    {
      "cell_type": "code",
      "source": [
        "# x_label = df['Time'].unique()\n",
        "df_copy.columns = x_label\n",
        "df_copy"
      ],
      "metadata": {
        "id": "iQoncHM-xm2x"
      },
      "execution_count": null,
      "outputs": []
    },
    {
      "cell_type": "code",
      "source": [
        "df.plot(x = \"Time\", y = [\"Motor RPM\", \"Screw RPM\", \"Throughput TPH\"], figsize = (20, 10), label = \"Motor Screw TPH\".split())"
      ],
      "metadata": {
        "id": "eid0Zu0jy2YC"
      },
      "execution_count": null,
      "outputs": []
    },
    {
      "cell_type": "code",
      "source": [
        "df_copy.plot()"
      ],
      "metadata": {
        "id": "H0xoMYoE6vVG"
      },
      "execution_count": null,
      "outputs": []
    },
    {
      "cell_type": "markdown",
      "source": [
        "#converting categorical data into numbers"
      ],
      "metadata": {
        "id": "lCWKzwlt_yoW"
      }
    },
    {
      "cell_type": "code",
      "source": [
        "from sklearn.preprocessing import LabelEncoder"
      ],
      "metadata": {
        "id": "doDbbfho_xtq"
      },
      "execution_count": null,
      "outputs": []
    },
    {
      "cell_type": "code",
      "source": [
        "DATA = {\"names\":[\"irene\", \"claude\", \"desire\", \"Aimee\", \"Divine\", \"colds\"],\n",
        "        \"gender\":[\"male\", \"male\", \"male\", \"female\", \"female\", \"unknown\"]}\n",
        "DATA = pd.DataFrame(DATA)"
      ],
      "metadata": {
        "id": "n4kSGAcqAXuO"
      },
      "execution_count": null,
      "outputs": []
    },
    {
      "cell_type": "code",
      "source": [
        "# ENCODER\n",
        "enc = LabelEncoder()\n",
        "DATA['encoded_text'] = enc.fit_transform(DATA['gender'])\n",
        "DATA"
      ],
      "metadata": {
        "id": "u4TZXDCCAjcL"
      },
      "execution_count": null,
      "outputs": []
    },
    {
      "cell_type": "markdown",
      "source": [
        "working with the datasets comes with sklearn"
      ],
      "metadata": {
        "id": "5ShGn9Euf4AJ"
      }
    },
    {
      "cell_type": "code",
      "source": [
        "from sklearn import datasets"
      ],
      "metadata": {
        "id": "EujCD2A-gB3K"
      },
      "execution_count": null,
      "outputs": []
    },
    {
      "cell_type": "code",
      "source": [
        "# digits\n",
        "digits = datasets.load_digits()\n",
        "# get numpy array of the digits\n",
        "n_array = digits.data\n",
        "print(n_array)"
      ],
      "metadata": {
        "id": "Uvcc7chwgHde"
      },
      "execution_count": null,
      "outputs": []
    },
    {
      "cell_type": "code",
      "source": [
        "n_array.shape"
      ],
      "metadata": {
        "id": "mz689loggYNp"
      },
      "execution_count": null,
      "outputs": []
    },
    {
      "cell_type": "code",
      "source": [
        "digits.target"
      ],
      "metadata": {
        "id": "AXSN38x3gZyl"
      },
      "execution_count": null,
      "outputs": []
    },
    {
      "cell_type": "code",
      "source": [
        "# draft\n",
        "import inspect\n",
        "import matplotlib.pyplot as plt\n",
        "\n",
        "inspect.signature(plt.hist)"
      ],
      "metadata": {
        "id": "BxgYKInhoT7d"
      },
      "execution_count": null,
      "outputs": []
    },
    {
      "cell_type": "markdown",
      "source": [
        "big data distribution in machine  learning"
      ],
      "metadata": {
        "id": "KFNj2KmZqoxp"
      }
    },
    {
      "cell_type": "code",
      "source": [
        "# uniform distribution\n",
        "import numpy as np\n",
        "\n",
        "data = np.random.uniform(0.0, 5.0, 250) # from 0 to 5 and get 250 values in between\n",
        "data"
      ],
      "metadata": {
        "id": "v8Djong_qn1s"
      },
      "execution_count": null,
      "outputs": []
    },
    {
      "cell_type": "code",
      "source": [
        "# plot the data on histogram plot\n",
        "plt.hist(data, 100) # plot the data and have 100 bars on the plot\n"
      ],
      "metadata": {
        "id": "Y4eY5DpprAzT"
      },
      "execution_count": null,
      "outputs": []
    },
    {
      "cell_type": "code",
      "source": [
        "# normal distribution\n",
        "\n",
        "data2 = np.random.normal(5.0, 1.0, 250) # have mean of 5, standard deviation of 1 and values generated equals to 1000\n",
        "data2"
      ],
      "metadata": {
        "id": "y7Hyperor_7g"
      },
      "execution_count": null,
      "outputs": []
    },
    {
      "cell_type": "code",
      "source": [
        "# plot the data\n",
        "plt.hist(data, 100)"
      ],
      "metadata": {
        "id": "MX1xG_T1sXrx"
      },
      "execution_count": null,
      "outputs": []
    },
    {
      "cell_type": "code",
      "source": [
        "# plot uniform on x and normal distribution on y\n",
        "plt.scatter(data, data2)"
      ],
      "metadata": {
        "id": "LLyvOYdstWYI"
      },
      "execution_count": null,
      "outputs": []
    }
  ]
}