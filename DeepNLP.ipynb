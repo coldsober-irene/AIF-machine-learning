{
  "cells": [
    {
      "cell_type": "markdown",
      "metadata": {
        "id": "view-in-github",
        "colab_type": "text"
      },
      "source": [
        "<a href=\"https://colab.research.google.com/github/coldsober-irene/AIF-machine-learning/blob/main/DeepNLP.ipynb\" target=\"_parent\"><img src=\"https://colab.research.google.com/assets/colab-badge.svg\" alt=\"Open In Colab\"/></a>"
      ]
    },
    {
      "cell_type": "markdown",
      "metadata": {
        "id": "mRs770o5H1tN"
      },
      "source": [
        "# 1 - Simple Sentiment Analysis\n",
        "\n",
        "In this series we'll be building a machine learning model to detect sentiment (i.e. detect if a sentence is positive or negative) using PyTorch and TorchText. This will be done on movie reviews, using the [IMDb dataset](http://ai.stanford.edu/~amaas/data/sentiment/).\n",
        "\n",
        "In this first notebook, we'll start very simple to understand the general concepts whilst not really caring about good results. Further notebooks will build on this knowledge and we'll actually get good results.\n",
        "\n",
        "### Introduction\n",
        "\n",
        "We'll be using a **recurrent neural network** (RNN) as they are commonly used in analysing sequences. An RNN takes in sequence of words, $X=\\{x_1, ..., x_T\\}$, one at a time, and produces a _hidden state_, $h$, for each word. We use the RNN _recurrently_ by feeding in the current word $x_t$ as well as the hidden state from the previous word, $h_{t-1}$, to produce the next hidden state, $h_t$.\n",
        "\n",
        "$$h_t = \\text{RNN}(x_t, h_{t-1})$$\n",
        "\n",
        "Once we have our final hidden state, $h_T$, (from feeding in the last word in the sequence, $x_T$) we feed it through a linear layer, $f$, (also known as a fully connected layer), to receive our predicted sentiment, $\\hat{y} = f(h_T)$.\n",
        "\n",
        "Below shows an example sentence, with the RNN predicting zero, which indicates a negative sentiment. The RNN is shown in orange and the linear layer shown in silver. Note that we use the same RNN for every word, i.e. it has the same parameters. The initial hidden state, $h_0$, is a tensor initialized to all zeros.\n",
        "\n",
        "![](https://github.com/bentrevett/pytorch-sentiment-analysis/blob/master/assets/sentiment1.png?raw=1)\n",
        "\n",
        "**Note:** some layers and steps have been omitted from the diagram, but these will be explained later."
      ]
    },
    {
      "cell_type": "markdown",
      "metadata": {
        "id": "q7PlOzNmH1tP"
      },
      "source": [
        "## Preparing Data\n",
        "\n",
        "One of the main concepts of TorchText is the `Field`. These define how your data should be processed. In our sentiment classification task the data consists of both the raw string of the review and the sentiment, either \"pos\" or \"neg\".\n",
        "\n",
        "The parameters of a `Field` specify how the data should be processed.\n",
        "\n",
        "We use the `TEXT` field to define how the review should be processed, and the `LABEL` field to process the sentiment.\n",
        "\n",
        "Our `TEXT` field has `tokenize='spacy'` as an argument. This defines that the \"tokenization\" (the act of splitting the string into discrete \"tokens\") should be done using the [spaCy](https://spacy.io) tokenizer. If no `tokenize` argument is passed, the default is simply splitting the string on spaces. We also need to specify a `tokenizer_language` which tells torchtext which spaCy model to use. We use the `en_core_web_sm` model which has to be downloaded with `python -m spacy download en_core_web_sm` before you run this notebook!\n",
        "\n",
        "`LABEL` is defined by a `LabelField`, a special subset of the `Field` class specifically used for handling labels. We will explain the `dtype` argument later.\n",
        "\n",
        "For more on `Fields`, go [here](https://github.com/pytorch/text/blob/master/torchtext/data/field.py).\n",
        "\n",
        "We also set the random seeds for reproducibility."
      ]
    },
    {
      "cell_type": "code",
      "source": [
        "!pip install torchtext==0.4.0"
      ],
      "metadata": {
        "id": "cD11k9FQIxzW",
        "outputId": "d50ae08d-75f2-4207-b12e-b60775c905bc",
        "colab": {
          "base_uri": "https://localhost:8080/"
        }
      },
      "execution_count": 1,
      "outputs": [
        {
          "output_type": "stream",
          "name": "stdout",
          "text": [
            "Collecting torchtext==0.4.0\n",
            "  Downloading torchtext-0.4.0-py3-none-any.whl (53 kB)\n",
            "\u001b[2K     \u001b[90m━━━━━━━━━━━━━━━━━━━━━━━━━━━━━━━━━━━━━━━━\u001b[0m \u001b[32m53.1/53.1 kB\u001b[0m \u001b[31m901.2 kB/s\u001b[0m eta \u001b[36m0:00:00\u001b[0m\n",
            "\u001b[?25hRequirement already satisfied: tqdm in /usr/local/lib/python3.10/dist-packages (from torchtext==0.4.0) (4.66.2)\n",
            "Requirement already satisfied: requests in /usr/local/lib/python3.10/dist-packages (from torchtext==0.4.0) (2.31.0)\n",
            "Requirement already satisfied: torch in /usr/local/lib/python3.10/dist-packages (from torchtext==0.4.0) (2.1.0+cu121)\n",
            "Requirement already satisfied: numpy in /usr/local/lib/python3.10/dist-packages (from torchtext==0.4.0) (1.25.2)\n",
            "Requirement already satisfied: six in /usr/local/lib/python3.10/dist-packages (from torchtext==0.4.0) (1.16.0)\n",
            "Requirement already satisfied: charset-normalizer<4,>=2 in /usr/local/lib/python3.10/dist-packages (from requests->torchtext==0.4.0) (3.3.2)\n",
            "Requirement already satisfied: idna<4,>=2.5 in /usr/local/lib/python3.10/dist-packages (from requests->torchtext==0.4.0) (3.6)\n",
            "Requirement already satisfied: urllib3<3,>=1.21.1 in /usr/local/lib/python3.10/dist-packages (from requests->torchtext==0.4.0) (2.0.7)\n",
            "Requirement already satisfied: certifi>=2017.4.17 in /usr/local/lib/python3.10/dist-packages (from requests->torchtext==0.4.0) (2024.2.2)\n",
            "Requirement already satisfied: filelock in /usr/local/lib/python3.10/dist-packages (from torch->torchtext==0.4.0) (3.13.1)\n",
            "Requirement already satisfied: typing-extensions in /usr/local/lib/python3.10/dist-packages (from torch->torchtext==0.4.0) (4.10.0)\n",
            "Requirement already satisfied: sympy in /usr/local/lib/python3.10/dist-packages (from torch->torchtext==0.4.0) (1.12)\n",
            "Requirement already satisfied: networkx in /usr/local/lib/python3.10/dist-packages (from torch->torchtext==0.4.0) (3.2.1)\n",
            "Requirement already satisfied: jinja2 in /usr/local/lib/python3.10/dist-packages (from torch->torchtext==0.4.0) (3.1.3)\n",
            "Requirement already satisfied: fsspec in /usr/local/lib/python3.10/dist-packages (from torch->torchtext==0.4.0) (2023.6.0)\n",
            "Requirement already satisfied: triton==2.1.0 in /usr/local/lib/python3.10/dist-packages (from torch->torchtext==0.4.0) (2.1.0)\n",
            "Requirement already satisfied: MarkupSafe>=2.0 in /usr/local/lib/python3.10/dist-packages (from jinja2->torch->torchtext==0.4.0) (2.1.5)\n",
            "Requirement already satisfied: mpmath>=0.19 in /usr/local/lib/python3.10/dist-packages (from sympy->torch->torchtext==0.4.0) (1.3.0)\n",
            "Installing collected packages: torchtext\n",
            "  Attempting uninstall: torchtext\n",
            "    Found existing installation: torchtext 0.16.0\n",
            "    Uninstalling torchtext-0.16.0:\n",
            "      Successfully uninstalled torchtext-0.16.0\n",
            "Successfully installed torchtext-0.4.0\n"
          ]
        }
      ]
    },
    {
      "cell_type": "code",
      "execution_count": 2,
      "metadata": {
        "id": "diXAJf2jH1tQ"
      },
      "outputs": [],
      "source": [
        "import torch\n",
        "from torchtext import data\n",
        "\n",
        "SEED = 1234\n",
        "\n",
        "torch.manual_seed(SEED)\n",
        "torch.backends.cudnn.deterministic = True\n",
        "\n",
        "TEXT = data.Field(tokenize = 'spacy',\n",
        "                  tokenizer_language = 'en_core_web_sm',\n",
        "                  include_lengths = True,\n",
        "                  pad_first=True)\n",
        "LABEL = data.LabelField(dtype = torch.float)"
      ]
    },
    {
      "cell_type": "markdown",
      "metadata": {
        "id": "nX88mkuKH1tQ"
      },
      "source": [
        "Another handy feature of TorchText is that it has support for common datasets used in natural language processing (NLP).\n",
        "\n",
        "The following code automatically downloads the IMDb dataset and splits it into the canonical train/test splits as `torchtext.datasets` objects. It process the data using the `Fields` we have previously defined. The IMDb dataset consists of 50,000 movie reviews, each marked as being a positive or negative review."
      ]
    },
    {
      "cell_type": "code",
      "execution_count": 3,
      "metadata": {
        "id": "nOTiebiKH1tR",
        "colab": {
          "base_uri": "https://localhost:8080/"
        },
        "outputId": "600b932c-b6b9-4320-c773-2c98759f2142"
      },
      "outputs": [
        {
          "output_type": "stream",
          "name": "stdout",
          "text": [
            "downloading aclImdb_v1.tar.gz\n"
          ]
        },
        {
          "output_type": "stream",
          "name": "stderr",
          "text": [
            "aclImdb_v1.tar.gz: 100%|██████████| 84.1M/84.1M [00:07<00:00, 10.9MB/s]\n"
          ]
        }
      ],
      "source": [
        "from torchtext import datasets\n",
        "\n",
        "train_data, test_data = datasets.IMDB.splits(TEXT, LABEL)"
      ]
    },
    {
      "cell_type": "markdown",
      "metadata": {
        "id": "afgL6u_GH1tR"
      },
      "source": [
        "We can see how many examples are in each split by checking their length."
      ]
    },
    {
      "cell_type": "code",
      "execution_count": 4,
      "metadata": {
        "id": "ZRJ49dUVH1tR",
        "outputId": "4b13a43c-fa8d-4c01-f62f-ae35c64cbeb8",
        "colab": {
          "base_uri": "https://localhost:8080/"
        }
      },
      "outputs": [
        {
          "output_type": "stream",
          "name": "stdout",
          "text": [
            "Number of training examples: 25000\n",
            "Number of testing examples: 25000\n"
          ]
        }
      ],
      "source": [
        "print(f'Number of training examples: {len(train_data)}')\n",
        "print(f'Number of testing examples: {len(test_data)}')"
      ]
    },
    {
      "cell_type": "markdown",
      "metadata": {
        "id": "WOZlrCq0H1tR"
      },
      "source": [
        "We can also check an example."
      ]
    },
    {
      "cell_type": "code",
      "execution_count": 5,
      "metadata": {
        "id": "a_GxVB6iH1tR",
        "outputId": "6cef7c06-0075-45cf-ddf1-9041252e670e",
        "colab": {
          "base_uri": "https://localhost:8080/"
        }
      },
      "outputs": [
        {
          "output_type": "stream",
          "name": "stdout",
          "text": [
            "{'text': ['One', 'does', \"n't\", 'get', 'to', 'enjoy', 'this', 'gem', ',', 'the', '1936', 'Invisible', 'Ray', ',', 'often', '.', 'But', 'no', 'can', 'forget', 'it', '.', 'The', 'story', 'is', 'elegant', '.', 'Karloff', ',', 'austere', 'and', 'embittered', 'in', 'his', 'Carpathian', 'mountain', 'retreat', ',', 'is', 'Janos', 'Rukh', ',', 'genius', 'science', 'who', 'reads', 'ancient', 'beams', 'of', 'light', 'to', 'ascertain', 'events', 'in', 'the', 'great', 'geological', 'past', '\\x85', 'particularly', 'the', 'crash', 'of', 'a', 'potent', 'radioactive', 'meteor', 'in', 'Africa', '.', 'Joining', 'him', 'is', 'the', 'ever', '-', 'elegant', 'Lugosi', '(', 'as', 'a', 'rare', 'hero', ')', ',', 'who', 'studies', '\"', 'astro', '-', 'chemistry', '.', '\"', 'Frances', 'Drake', 'is', 'the', 'lovely', ',', 'underused', 'young', 'wife', ';', 'Frank', 'Lawton', 'the', 'romantic', 'temptation', ';', 'and', 'the', 'divine', 'Violet', 'Kemble', 'Cooper', 'is', 'Mother', 'Rukh', ',', 'in', 'a', 'performance', 'worthy', 'of', 'Maria', 'Ospenskya.<br', '/><br', '/>The', 'story', 'moves', 'swiftly', 'in', 'bold', 'episodes', ',', 'with', 'special', 'effects', 'that', 'are', 'still', 'handsome', '.', 'It', 'also', 'contains', 'some', 'wonderful', 'lines', '.', 'One', 'Rukh', 'restores', 'his', 'mother', \"'s\", 'sight', ',', 'he', 'asks', ',', '\"', 'Mother', ',', 'can', 'you', 'see', ',', 'can', 'you', 'see', '?', '\"', '\"', 'Yes', ',', 'I', 'can', 'see', '\\x85', 'more', 'clearly', 'than', 'ever', '.', 'And', 'what', 'I', 'see', 'frightens', 'me', '.', '\"', 'Even', 'better', 'when', 'mother', 'Rukh', 'says', ',', '\"', 'He', 'broke', 'the', 'first', 'law', 'of', 'science', '.', '\"', 'I', 'am', 'not', 'alone', 'among', 'my', 'acquaintance', 'in', 'having', 'puzzled', 'for', 'many', 'many', 'years', 'exactly', 'what', 'this', 'first', 'law', 'of', 'science', 'is.<br', '/><br', '/>This', 'movie', 'is', 'definitely', 'desert', 'island', 'material', '.'], 'label': 'pos'}\n"
          ]
        }
      ],
      "source": [
        "print(vars(train_data.examples[0]))"
      ]
    },
    {
      "cell_type": "markdown",
      "metadata": {
        "id": "Cn0-tCRqH1tS"
      },
      "source": [
        "The IMDb dataset only has train/test splits, so we need to create a validation set. We can do this with the `.split()` method.\n",
        "\n",
        "By default this splits 70/30, however by passing a `split_ratio` argument, we can change the ratio of the split, i.e. a `split_ratio` of 0.8 would mean 80% of the examples make up the training set and 20% make up the validation set.\n",
        "\n",
        "We also pass our random seed to the `random_state` argument, ensuring that we get the same train/validation split each time."
      ]
    },
    {
      "cell_type": "code",
      "execution_count": 6,
      "metadata": {
        "id": "eCXoOIyVH1tS"
      },
      "outputs": [],
      "source": [
        "import random\n",
        "\n",
        "train_data, valid_data = train_data.split(random_state = random.seed(SEED))"
      ]
    },
    {
      "cell_type": "markdown",
      "metadata": {
        "id": "l7GIAq-lH1tS"
      },
      "source": [
        "Again, we'll view how many examples are in each split."
      ]
    },
    {
      "cell_type": "code",
      "execution_count": 7,
      "metadata": {
        "id": "aO3xIgKBH1tS",
        "outputId": "4d245730-a91a-4f56-cc46-530ea4802676",
        "colab": {
          "base_uri": "https://localhost:8080/"
        }
      },
      "outputs": [
        {
          "output_type": "stream",
          "name": "stdout",
          "text": [
            "Number of training examples: 17500\n",
            "Number of validation examples: 7500\n",
            "Number of testing examples: 25000\n"
          ]
        }
      ],
      "source": [
        "print(f'Number of training examples: {len(train_data)}')\n",
        "print(f'Number of validation examples: {len(valid_data)}')\n",
        "print(f'Number of testing examples: {len(test_data)}')"
      ]
    },
    {
      "cell_type": "markdown",
      "metadata": {
        "id": "wjmk1g3YH1tS"
      },
      "source": [
        "Next, we have to build a _vocabulary_. This is a effectively a look up table where every unique word in your data set has a corresponding _index_ (an integer).\n",
        "\n",
        "We do this as our machine learning model cannot operate on strings, only numbers. Each _index_ is used to construct a _one-hot_ vector for each word. A one-hot vector is a vector where all of the elements are 0, except one, which is 1, and dimensionality is the total number of unique words in your vocabulary, commonly denoted by $V$.\n",
        "\n",
        "![](https://github.com/bentrevett/pytorch-sentiment-analysis/blob/master/assets/sentiment5.png?raw=1)\n",
        "\n",
        "The number of unique words in our training set is over 100,000, which means that our one-hot vectors will have over 100,000 dimensions! This will make training slow and possibly won't fit onto your GPU (if you're using one).\n",
        "\n",
        "There are two ways effectively cut down our vocabulary, we can either only take the top $n$ most common words or ignore words that appear less than $m$ times. We'll do the former, only keeping the top 25,000 words.\n",
        "\n",
        "What do we do with words that appear in examples but we have cut from the vocabulary? We replace them with a special _unknown_ or `<unk>` token. For example, if the sentence was \"This film is great and I love it\" but the word \"love\" was not in the vocabulary, it would become \"This film is great and I `<unk>` it\".\n",
        "\n",
        "The following builds the vocabulary, only keeping the most common `max_size` tokens."
      ]
    },
    {
      "cell_type": "code",
      "execution_count": 8,
      "metadata": {
        "id": "Kzq6r-FtH1tS"
      },
      "outputs": [],
      "source": [
        "MAX_VOCAB_SIZE = 25_000\n",
        "\n",
        "TEXT.build_vocab(train_data, max_size = MAX_VOCAB_SIZE)\n",
        "LABEL.build_vocab(train_data)"
      ]
    },
    {
      "cell_type": "markdown",
      "metadata": {
        "id": "afFTzzi7H1tS"
      },
      "source": [
        "Why do we only build the vocabulary on the training set? When testing any machine learning system you do not want to look at the test set in any way. We do not include the validation set as we want it to reflect the test set as much as possible."
      ]
    },
    {
      "cell_type": "code",
      "execution_count": 9,
      "metadata": {
        "id": "j8GmgGjAH1tS",
        "outputId": "ba4e8cc8-fd3e-444a-eead-1b50cc2289c5",
        "colab": {
          "base_uri": "https://localhost:8080/"
        }
      },
      "outputs": [
        {
          "output_type": "stream",
          "name": "stdout",
          "text": [
            "Unique tokens in TEXT vocabulary: 25002\n",
            "Unique tokens in LABEL vocabulary: 2\n"
          ]
        }
      ],
      "source": [
        "print(f\"Unique tokens in TEXT vocabulary: {len(TEXT.vocab)}\")\n",
        "print(f\"Unique tokens in LABEL vocabulary: {len(LABEL.vocab)}\")"
      ]
    },
    {
      "cell_type": "markdown",
      "metadata": {
        "id": "B-8Giye0H1tS"
      },
      "source": [
        "Why is the vocab size 25002 and not 25000? One of the addition tokens is the `<unk>` token and the other is a `<pad>` token.\n",
        "\n",
        "When we feed sentences into our model, we feed a _batch_ of them at a time, i.e. more than one at a time, and all sentences in the batch need to be the same size. Thus, to ensure each sentence in the batch is the same size, any shorter than the longest within the batch are padded.\n",
        "\n",
        "![](https://github.com/bentrevett/pytorch-sentiment-analysis/blob/master/assets/sentiment6.png?raw=1)\n",
        "\n",
        "We can also view the most common words in the vocabulary and their frequencies."
      ]
    },
    {
      "cell_type": "code",
      "execution_count": 10,
      "metadata": {
        "id": "Cy0-pS3oH1tT",
        "outputId": "fe9a6701-768a-4162-9e1d-b5e51f27b0e5",
        "colab": {
          "base_uri": "https://localhost:8080/"
        }
      },
      "outputs": [
        {
          "output_type": "stream",
          "name": "stdout",
          "text": [
            "[('the', 202333), (',', 192520), ('.', 165129), ('and', 109345), ('a', 108834), ('of', 100661), ('to', 93434), ('is', 75676), ('in', 61311), ('I', 54153), ('it', 53275), ('that', 49038), ('\"', 44687), (\"'s\", 43247), ('this', 42164), ('-', 37194), ('/><br', 35835), ('was', 35210), ('as', 30606), ('with', 29869)]\n"
          ]
        }
      ],
      "source": [
        "print(TEXT.vocab.freqs.most_common(20))"
      ]
    },
    {
      "cell_type": "markdown",
      "metadata": {
        "id": "MWfh7Dx0H1tT"
      },
      "source": [
        "We can also see the vocabulary directly using either the `stoi` (**s**tring **to** **i**nt) or `itos` (**i**nt **to**  **s**tring) method."
      ]
    },
    {
      "cell_type": "code",
      "execution_count": 11,
      "metadata": {
        "id": "dllNkd79H1tT",
        "outputId": "8e073e0a-f746-477e-a54a-e5bfa5c59b17",
        "colab": {
          "base_uri": "https://localhost:8080/"
        }
      },
      "outputs": [
        {
          "output_type": "stream",
          "name": "stdout",
          "text": [
            "['<unk>', '<pad>', 'the', ',', '.', 'and', 'a', 'of', 'to', 'is']\n"
          ]
        }
      ],
      "source": [
        "print(TEXT.vocab.itos[:10])"
      ]
    },
    {
      "cell_type": "markdown",
      "metadata": {
        "id": "V3n_Iv61H1tT"
      },
      "source": [
        "We can also check the labels, ensuring 0 is for negative and 1 is for positive."
      ]
    },
    {
      "cell_type": "code",
      "execution_count": 12,
      "metadata": {
        "id": "JYFR21-NH1tT",
        "outputId": "e2264643-f366-415b-8239-828511940803",
        "colab": {
          "base_uri": "https://localhost:8080/"
        }
      },
      "outputs": [
        {
          "output_type": "stream",
          "name": "stdout",
          "text": [
            "defaultdict(None, {'neg': 0, 'pos': 1})\n"
          ]
        }
      ],
      "source": [
        "print(LABEL.vocab.stoi)"
      ]
    },
    {
      "cell_type": "code",
      "source": [
        "TEXT.__dict__"
      ],
      "metadata": {
        "colab": {
          "base_uri": "https://localhost:8080/"
        },
        "id": "-AC55M4-TkT-",
        "outputId": "43ca8f9c-1c99-4b3e-b8dc-22f23df5fc3d"
      },
      "execution_count": 13,
      "outputs": [
        {
          "output_type": "execute_result",
          "data": {
            "text/plain": [
              "{'sequential': True,\n",
              " 'use_vocab': True,\n",
              " 'init_token': None,\n",
              " 'eos_token': None,\n",
              " 'unk_token': '<unk>',\n",
              " 'fix_length': None,\n",
              " 'dtype': torch.int64,\n",
              " 'preprocessing': None,\n",
              " 'postprocessing': None,\n",
              " 'lower': False,\n",
              " 'tokenizer_args': ('spacy', 'en_core_web_sm'),\n",
              " 'tokenize': functools.partial(<function _spacy_tokenize at 0x79d7817c5090>, spacy=<spacy.lang.en.English object at 0x79d7814cd180>),\n",
              " 'include_lengths': True,\n",
              " 'batch_first': False,\n",
              " 'pad_token': '<pad>',\n",
              " 'pad_first': True,\n",
              " 'truncate_first': False,\n",
              " 'stop_words': None,\n",
              " 'is_target': False,\n",
              " 'vocab': <torchtext.vocab.Vocab at 0x79d6f37c5de0>}"
            ]
          },
          "metadata": {},
          "execution_count": 13
        }
      ]
    },
    {
      "cell_type": "markdown",
      "metadata": {
        "id": "zG_SfWp3H1tT"
      },
      "source": [
        "The final step of preparing the data is creating the iterators. We iterate over these in the training/evaluation loop, and they return a batch of examples (indexed and converted into tensors) at each iteration.\n",
        "\n",
        "We'll use a `BucketIterator` which is a special type of iterator that will return a batch of examples where each example is of a similar length, minimizing the amount of padding per example.\n",
        "\n",
        "We also want to place the tensors returned by the iterator on the GPU (if you're using one). PyTorch handles this using `torch.device`, we then pass this device to the iterator."
      ]
    },
    {
      "cell_type": "code",
      "execution_count": 14,
      "metadata": {
        "id": "5QYGHCMfH1tT"
      },
      "outputs": [],
      "source": [
        "BATCH_SIZE = 64\n",
        "\n",
        "device = torch.device('cuda' if torch.cuda.is_available() else 'cpu')\n",
        "\n",
        "train_iterator, valid_iterator, test_iterator = data.BucketIterator.splits(\n",
        "    (train_data, valid_data, test_data),\n",
        "    batch_size = BATCH_SIZE,\n",
        "    sort_within_batch = True,\n",
        "    device = device)"
      ]
    },
    {
      "cell_type": "markdown",
      "metadata": {
        "id": "XqygCp2RH1tT"
      },
      "source": [
        "## Build the Model\n",
        "\n",
        "The next stage is building the model that we'll eventually train and evaluate.\n",
        "\n",
        "There is a small amount of boilerplate code when creating models in PyTorch, note how our `RNN` class is a sub-class of `nn.Module` and the use of `super`.\n",
        "\n",
        "Within the `__init__` we define the _layers_ of the module. Our three layers are an _embedding_ layer, our RNN, and a _linear_ layer. All layers have their parameters initialized to random values, unless explicitly specified.\n",
        "\n",
        "The embedding layer is used to transform our sparse one-hot vector (sparse as most of the elements are 0) into a dense embedding vector (dense as the dimensionality is a lot smaller and all the elements are real numbers). This embedding layer is simply a single fully connected layer. As well as reducing the dimensionality of the input to the RNN, there is the theory that words which have similar impact on the sentiment of the review are mapped close together in this dense vector space. For more information about word embeddings, see [here](https://monkeylearn.com/blog/word-embeddings-transform-text-numbers/).\n",
        "\n",
        "The RNN layer is our RNN which takes in our dense vector and the previous hidden state $h_{t-1}$, which it uses to calculate the next hidden state, $h_t$.\n",
        "\n",
        "![](https://github.com/bentrevett/pytorch-sentiment-analysis/blob/master/assets/sentiment7.png?raw=1)\n",
        "\n",
        "Finally, the linear layer takes the final hidden state and feeds it through a fully connected layer, $f(h_T)$, transforming it to the correct output dimension.\n",
        "\n",
        "The `forward` method is called when we feed examples into our model.\n",
        "\n",
        "Each batch, `text`, is a tensor of size _**[sentence length, batch size]**_. That is a batch of sentences, each having each word converted into a one-hot vector.\n",
        "\n",
        "You may notice that this tensor should have another dimension due to the one-hot vectors, however PyTorch conveniently stores a one-hot vector as it's index value, i.e. the tensor representing a sentence is just a tensor of the indexes for each token in that sentence. The act of converting a list of tokens into a list of indexes is commonly called *numericalizing*.\n",
        "\n",
        "The input batch is then passed through the embedding layer to get `embedded`, which gives us a dense vector representation of our sentences. `embedded` is a tensor of size _**[sentence length, batch size, embedding dim]**_.\n",
        "\n",
        "`embedded` is then fed into the RNN. In some frameworks you must feed the initial hidden state, $h_0$, into the RNN, however in PyTorch, if no initial hidden state is passed as an argument it defaults to a tensor of all zeros.\n",
        "\n",
        "The RNN returns 2 tensors, `output` of size _**[sentence length, batch size, hidden dim]**_ and `hidden` of size _**[1, batch size, hidden dim]**_. `output` is the concatenation of the hidden state from every time step, whereas `hidden` is simply the final hidden state. We verify this using the `assert` statement. Note the `squeeze` method, which is used to remove a dimension of size 1.\n",
        "\n",
        "Finally, we feed the last hidden state, `hidden`, through the linear layer, `fc`, to produce a prediction."
      ]
    },
    {
      "cell_type": "code",
      "execution_count": 15,
      "metadata": {
        "id": "Q5IWVRASH1tT"
      },
      "outputs": [],
      "source": [
        "import torch.nn as nn\n",
        "\n",
        "class RNN(nn.Module):\n",
        "    def __init__(self, input_dim, embedding_dim, hidden_dim, output_dim):\n",
        "\n",
        "        super().__init__()\n",
        "\n",
        "        self.embedding = nn.Embedding(input_dim, embedding_dim)\n",
        "\n",
        "        self.rnn = nn.RNN(embedding_dim, hidden_dim)\n",
        "\n",
        "        self.fc = nn.Linear(hidden_dim, output_dim)\n",
        "\n",
        "    def forward(self, text, text_lengths):\n",
        "        #text = [sent len, batch size]\n",
        "\n",
        "        embedded = self.embedding(text)\n",
        "        #embedded = [sent len, batch size, emb dim]\n",
        "\n",
        "        output, hidden = self.rnn(embedded)\n",
        "        #output = [sent len, batch size, hid dim]\n",
        "        #hidden = [1, batch size, hid dim]\n",
        "\n",
        "        #assert torch.equal(output[-1,:,:], hidden.squeeze(0))\n",
        "\n",
        "        return self.fc(hidden.squeeze(0))"
      ]
    },
    {
      "cell_type": "markdown",
      "metadata": {
        "id": "Grztahq0H1tT"
      },
      "source": [
        "We now create an instance of our RNN class.\n",
        "\n",
        "The input dimension is the dimension of the one-hot vectors, which is equal to the vocabulary size.\n",
        "\n",
        "The embedding dimension is the size of the dense word vectors. This is usually around 50-250 dimensions, but depends on the size of the vocabulary.\n",
        "\n",
        "The hidden dimension is the size of the hidden states. This is usually around 100-500 dimensions, but also depends on factors such as on the vocabulary size, the size of the dense vectors and the complexity of the task.\n",
        "\n",
        "The output dimension is usually the number of classes, however in the case of only 2 classes the output value is between 0 and 1 and thus can be 1-dimensional, i.e. a single scalar real number."
      ]
    },
    {
      "cell_type": "code",
      "execution_count": 16,
      "metadata": {
        "id": "C-NMrSMCH1tT"
      },
      "outputs": [],
      "source": [
        "INPUT_DIM = len(TEXT.vocab)\n",
        "EMBEDDING_DIM = 100\n",
        "HIDDEN_DIM = 256\n",
        "OUTPUT_DIM = 1\n",
        "\n",
        "model = RNN(INPUT_DIM, EMBEDDING_DIM, HIDDEN_DIM, OUTPUT_DIM)"
      ]
    },
    {
      "cell_type": "markdown",
      "metadata": {
        "id": "epWFTT7gH1tU"
      },
      "source": [
        "Let's also create a function that will tell us how many trainable parameters our model has so we can compare the number of parameters across different models."
      ]
    },
    {
      "cell_type": "code",
      "execution_count": 17,
      "metadata": {
        "id": "wcSM1EMeH1tU",
        "outputId": "3385d4f7-52dd-43ec-f6f9-0d5371f366ae",
        "colab": {
          "base_uri": "https://localhost:8080/"
        }
      },
      "outputs": [
        {
          "output_type": "stream",
          "name": "stdout",
          "text": [
            "The model has 2,592,105 trainable parameters\n"
          ]
        }
      ],
      "source": [
        "def count_parameters(model):\n",
        "    return sum(p.numel() for p in model.parameters() if p.requires_grad)\n",
        "\n",
        "print(f'The model has {count_parameters(model):,} trainable parameters')"
      ]
    },
    {
      "cell_type": "markdown",
      "metadata": {
        "id": "wrkr-KlaH1tU"
      },
      "source": [
        "## Train the Model"
      ]
    },
    {
      "cell_type": "markdown",
      "metadata": {
        "id": "8ATDO1XbH1tU"
      },
      "source": [
        "Now we'll set up the training and then train the model.\n",
        "\n",
        "First, we'll create an optimizer. This is the algorithm we use to update the parameters of the module. Here, we'll use _stochastic gradient descent_ (SGD). The first argument is the parameters will be updated by the optimizer, the second is the learning rate, i.e. how much we'll change the parameters by when we do a parameter update."
      ]
    },
    {
      "cell_type": "code",
      "execution_count": 18,
      "metadata": {
        "id": "GvMIccglH1tU"
      },
      "outputs": [],
      "source": [
        "import torch.optim as optim\n",
        "\n",
        "optimizer = optim.Adam(model.parameters(), lr=1e-3)"
      ]
    },
    {
      "cell_type": "markdown",
      "metadata": {
        "id": "w2VjOUWDH1tU"
      },
      "source": [
        "Next, we'll define our loss function. In PyTorch this is commonly called a criterion.\n",
        "\n",
        "The loss function here is _binary cross entropy with logits_.\n",
        "\n",
        "Our model currently outputs an unbound real number. As our labels are either 0 or 1, we want to restrict the predictions to a number between 0 and 1. We do this using the _sigmoid_ or _logit_ functions.\n",
        "\n",
        "We then use this this bound scalar to calculate the loss using binary cross entropy.\n",
        "\n",
        "The `BCEWithLogitsLoss` criterion carries out both the sigmoid and the binary cross entropy steps."
      ]
    },
    {
      "cell_type": "code",
      "execution_count": 19,
      "metadata": {
        "id": "Y24HzSVUH1tU"
      },
      "outputs": [],
      "source": [
        "criterion = nn.BCEWithLogitsLoss()"
      ]
    },
    {
      "cell_type": "markdown",
      "metadata": {
        "id": "QLggV-msH1tU"
      },
      "source": [
        "Using `.to`, we can place the model and the criterion on the GPU (if we have one)."
      ]
    },
    {
      "cell_type": "code",
      "execution_count": 20,
      "metadata": {
        "id": "Oxpv2NL9H1tU"
      },
      "outputs": [],
      "source": [
        "model = model.to(device)\n",
        "criterion = criterion.to(device)"
      ]
    },
    {
      "cell_type": "markdown",
      "metadata": {
        "id": "yGaPkSU2H1tU"
      },
      "source": [
        "Our criterion function calculates the loss, however we have to write our function to calculate the accuracy.\n",
        "\n",
        "This function first feeds the predictions through a sigmoid layer, squashing the values between 0 and 1, we then round them to the nearest integer. This rounds any value greater than 0.5 to 1 (a positive sentiment) and the rest to 0 (a negative sentiment).\n",
        "\n",
        "We then calculate how many rounded predictions equal the actual labels and average it across the batch."
      ]
    },
    {
      "cell_type": "code",
      "execution_count": 21,
      "metadata": {
        "id": "wp5qxRMeH1tU"
      },
      "outputs": [],
      "source": [
        "def binary_accuracy(preds, y):\n",
        "    \"\"\"\n",
        "    Returns accuracy per batch, i.e. if you get 8/10 right, this returns 0.8, NOT 8\n",
        "    \"\"\"\n",
        "\n",
        "    #round predictions to the closest integer\n",
        "    rounded_preds = torch.round(torch.sigmoid(preds))\n",
        "    correct = (rounded_preds == y).float() #convert into float for division\n",
        "    acc = correct.sum() / len(correct)\n",
        "    return acc"
      ]
    },
    {
      "cell_type": "markdown",
      "metadata": {
        "id": "DLgOX9sVH1tU"
      },
      "source": [
        "The `train` function iterates over all examples, one batch at a time.\n",
        "\n",
        "`model.train()` is used to put the model in \"training mode\", which turns on _dropout_ and _batch normalization_. Although we aren't using them in this model, it's good practice to include it.\n",
        "\n",
        "For each batch, we first zero the gradients. Each parameter in a model has a `grad` attribute which stores the gradient calculated by the `criterion`. PyTorch does not automatically remove (or \"zero\") the gradients calculated from the last gradient calculation, so they must be manually zeroed.\n",
        "\n",
        "We then feed the batch of sentences, `batch.text`, into the model. Note, you do not need to do `model.forward(batch.text)`, simply calling the model works. The `squeeze` is needed as the predictions are initially size _**[batch size, 1]**_, and we need to remove the dimension of size 1 as PyTorch expects the predictions input to our criterion function to be of size _**[batch size]**_.\n",
        "\n",
        "The loss and accuracy are then calculated using our predictions and the labels, `batch.label`, with the loss being averaged over all examples in the batch.\n",
        "\n",
        "We calculate the gradient of each parameter with `loss.backward()`, and then update the parameters using the gradients and optimizer algorithm with `optimizer.step()`.\n",
        "\n",
        "The loss and accuracy is accumulated across the epoch, the `.item()` method is used to extract a scalar from a tensor which only contains a single value.\n",
        "\n",
        "Finally, we return the loss and accuracy, averaged across the epoch. The `len` of an iterator is the number of batches in the iterator.\n",
        "\n",
        "You may recall when initializing the `LABEL` field, we set `dtype=torch.float`. This is because TorchText sets tensors to be `LongTensor`s by default, however our criterion expects both inputs to be `FloatTensor`s. Setting the `dtype` to be `torch.float`, did this for us. The alternative method of doing this would be to do the conversion inside the `train` function by passing `batch.label.float()` instad of `batch.label` to the criterion."
      ]
    },
    {
      "cell_type": "code",
      "execution_count": 22,
      "metadata": {
        "id": "nqCbCqPuH1tU"
      },
      "outputs": [],
      "source": [
        "def train(model, iterator, optimizer, criterion):\n",
        "\n",
        "    epoch_loss = 0\n",
        "    epoch_acc = 0\n",
        "\n",
        "    model.train()\n",
        "\n",
        "    for batch in iterator:\n",
        "\n",
        "        optimizer.zero_grad()\n",
        "\n",
        "        text, text_lengths = batch.text\n",
        "\n",
        "        predictions = model(text, text_lengths).squeeze(1)\n",
        "\n",
        "        loss = criterion(predictions, batch.label)\n",
        "\n",
        "        acc = binary_accuracy(predictions, batch.label)\n",
        "\n",
        "        loss.backward()\n",
        "\n",
        "        optimizer.step()\n",
        "\n",
        "        epoch_loss += loss.item()\n",
        "        epoch_acc += acc.item()\n",
        "\n",
        "    return epoch_loss / len(iterator), epoch_acc / len(iterator)"
      ]
    },
    {
      "cell_type": "markdown",
      "metadata": {
        "id": "mjgL4FpwH1tU"
      },
      "source": [
        "`evaluate` is similar to `train`, with a few modifications as you don't want to update the parameters when evaluating.\n",
        "\n",
        "`model.eval()` puts the model in \"evaluation mode\", this turns off _dropout_ and _batch normalization_. Again, we are not using them in this model, but it is good practice to include them.\n",
        "\n",
        "No gradients are calculated on PyTorch operations inside the `with no_grad()` block. This causes less memory to be used and speeds up computation.\n",
        "\n",
        "The rest of the function is the same as `train`, with the removal of `optimizer.zero_grad()`, `loss.backward()` and `optimizer.step()`, as we do not update the model's parameters when evaluating."
      ]
    },
    {
      "cell_type": "code",
      "execution_count": 23,
      "metadata": {
        "id": "eS3rZWzhH1tU"
      },
      "outputs": [],
      "source": [
        "def evaluate(model, iterator, criterion):\n",
        "\n",
        "    epoch_loss = 0\n",
        "    epoch_acc = 0\n",
        "\n",
        "    model.eval()\n",
        "\n",
        "    with torch.no_grad():\n",
        "\n",
        "        for batch in iterator:\n",
        "            text, text_lengths = batch.text\n",
        "\n",
        "            predictions = model(text, text_lengths).squeeze(1)\n",
        "\n",
        "            loss = criterion(predictions, batch.label)\n",
        "\n",
        "            acc = binary_accuracy(predictions, batch.label)\n",
        "\n",
        "            epoch_loss += loss.item()\n",
        "            epoch_acc += acc.item()\n",
        "\n",
        "    return epoch_loss / len(iterator), epoch_acc / len(iterator)"
      ]
    },
    {
      "cell_type": "markdown",
      "metadata": {
        "id": "ihiNgpLMH1tU"
      },
      "source": [
        "We'll also create a function to tell us how long an epoch takes to compare training times between models."
      ]
    },
    {
      "cell_type": "code",
      "execution_count": 24,
      "metadata": {
        "id": "EzkEdOh_H1tU"
      },
      "outputs": [],
      "source": [
        "import time\n",
        "\n",
        "def epoch_time(start_time, end_time):\n",
        "    elapsed_time = end_time - start_time\n",
        "    elapsed_mins = int(elapsed_time / 60)\n",
        "    elapsed_secs = int(elapsed_time - (elapsed_mins * 60))\n",
        "    return elapsed_mins, elapsed_secs"
      ]
    },
    {
      "cell_type": "markdown",
      "metadata": {
        "id": "M5qBxiXfH1tU"
      },
      "source": [
        "We then train the model through multiple epochs, an epoch being a complete pass through all examples in the training and validation sets.\n",
        "\n",
        "At each epoch, if the validation loss is the best we have seen so far, we'll save the parameters of the model and then after training has finished we'll use that model on the test set."
      ]
    },
    {
      "cell_type": "code",
      "execution_count": 33,
      "metadata": {
        "id": "eAjehc9qH1tV",
        "outputId": "d226d87e-94d4-4542-9c1f-fd6085ad77c0",
        "colab": {
          "base_uri": "https://localhost:8080/"
        }
      },
      "outputs": [
        {
          "output_type": "stream",
          "name": "stdout",
          "text": [
            "------------------RUNNING EPOCHS:  [20]----------------------------------------\n",
            "Trained model saved\n",
            "Epoch: 01 | Epoch Time: 0m 3s\n",
            "\tTrain Loss: 0.447 | Train Acc: 80.44%\n",
            "\t Val. Loss: 0.671 |  Val. Acc: 68.72%\n",
            "Trained model saved\n",
            "Epoch: 02 | Epoch Time: 0m 3s\n",
            "\tTrain Loss: 0.470 | Train Acc: 76.74%\n",
            "\t Val. Loss: 0.645 |  Val. Acc: 60.10%\n",
            "Trained model saved\n",
            "Epoch: 03 | Epoch Time: 0m 4s\n",
            "\tTrain Loss: 0.465 | Train Acc: 77.32%\n",
            "\t Val. Loss: 0.721 |  Val. Acc: 69.90%\n",
            "Trained model saved\n",
            "Epoch: 04 | Epoch Time: 0m 3s\n",
            "\tTrain Loss: 0.582 | Train Acc: 67.17%\n",
            "\t Val. Loss: 0.696 |  Val. Acc: 60.24%\n",
            "Trained model saved\n",
            "Epoch: 05 | Epoch Time: 0m 3s\n",
            "\tTrain Loss: 0.438 | Train Acc: 79.60%\n",
            "\t Val. Loss: 0.686 |  Val. Acc: 68.20%\n",
            "Trained model saved\n",
            "Epoch: 06 | Epoch Time: 0m 4s\n",
            "\tTrain Loss: 0.373 | Train Acc: 84.46%\n",
            "\t Val. Loss: 0.768 |  Val. Acc: 57.27%\n",
            "Trained model saved\n",
            "Epoch: 07 | Epoch Time: 0m 3s\n",
            "\tTrain Loss: 0.396 | Train Acc: 81.65%\n",
            "\t Val. Loss: 0.731 |  Val. Acc: 68.60%\n",
            "Trained model saved\n",
            "Epoch: 08 | Epoch Time: 0m 3s\n",
            "\tTrain Loss: 0.323 | Train Acc: 87.11%\n",
            "\t Val. Loss: 0.704 |  Val. Acc: 71.46%\n",
            "Trained model saved\n",
            "Epoch: 09 | Epoch Time: 0m 4s\n",
            "\tTrain Loss: 0.338 | Train Acc: 85.21%\n",
            "\t Val. Loss: 0.782 |  Val. Acc: 68.80%\n",
            "Trained model saved\n",
            "Epoch: 10 | Epoch Time: 0m 3s\n",
            "\tTrain Loss: 0.309 | Train Acc: 87.52%\n",
            "\t Val. Loss: 0.761 |  Val. Acc: 68.50%\n",
            "Trained model saved\n",
            "Epoch: 11 | Epoch Time: 0m 3s\n",
            "\tTrain Loss: 0.330 | Train Acc: 86.05%\n",
            "\t Val. Loss: 0.769 |  Val. Acc: 66.74%\n",
            "Trained model saved\n",
            "Epoch: 12 | Epoch Time: 0m 4s\n",
            "\tTrain Loss: 0.346 | Train Acc: 85.12%\n",
            "\t Val. Loss: 0.748 |  Val. Acc: 70.72%\n",
            "Trained model saved\n",
            "Epoch: 13 | Epoch Time: 0m 4s\n",
            "\tTrain Loss: 0.275 | Train Acc: 89.21%\n",
            "\t Val. Loss: 0.760 |  Val. Acc: 70.23%\n",
            "Trained model saved\n",
            "Epoch: 14 | Epoch Time: 0m 3s\n",
            "\tTrain Loss: 0.247 | Train Acc: 90.61%\n",
            "\t Val. Loss: 0.731 |  Val. Acc: 72.61%\n",
            "Trained model saved\n",
            "Epoch: 15 | Epoch Time: 0m 4s\n",
            "\tTrain Loss: 0.240 | Train Acc: 90.53%\n",
            "\t Val. Loss: 0.717 |  Val. Acc: 71.13%\n",
            "Trained model saved\n",
            "Epoch: 16 | Epoch Time: 0m 4s\n",
            "\tTrain Loss: 0.245 | Train Acc: 90.32%\n",
            "\t Val. Loss: 0.797 |  Val. Acc: 66.51%\n",
            "Trained model saved\n",
            "Epoch: 17 | Epoch Time: 0m 3s\n",
            "\tTrain Loss: 0.243 | Train Acc: 90.59%\n",
            "\t Val. Loss: 0.781 |  Val. Acc: 69.93%\n",
            "Trained model saved\n",
            "Epoch: 18 | Epoch Time: 0m 3s\n",
            "\tTrain Loss: 0.531 | Train Acc: 74.16%\n",
            "\t Val. Loss: 0.682 |  Val. Acc: 62.12%\n",
            "Trained model saved\n",
            "Epoch: 19 | Epoch Time: 0m 4s\n",
            "\tTrain Loss: 0.469 | Train Acc: 77.80%\n",
            "\t Val. Loss: 0.705 |  Val. Acc: 63.06%\n",
            "Trained model saved\n",
            "Epoch: 20 | Epoch Time: 0m 3s\n",
            "\tTrain Loss: 0.487 | Train Acc: 75.01%\n",
            "\t Val. Loss: 0.697 |  Val. Acc: 54.19%\n",
            "------------------END RUNNING EPOCHS:  [20]----------------------------------------\n",
            "------------------RUNNING EPOCHS:  [50]----------------------------------------\n",
            "Trained model saved\n",
            "Epoch: 01 | Epoch Time: 0m 3s\n",
            "\tTrain Loss: 0.625 | Train Acc: 63.40%\n",
            "\t Val. Loss: 0.664 |  Val. Acc: 57.37%\n",
            "Trained model saved\n",
            "Epoch: 02 | Epoch Time: 0m 4s\n",
            "\tTrain Loss: 0.610 | Train Acc: 65.16%\n",
            "\t Val. Loss: 0.673 |  Val. Acc: 56.67%\n",
            "Trained model saved\n",
            "Epoch: 03 | Epoch Time: 0m 3s\n",
            "\tTrain Loss: 0.569 | Train Acc: 70.36%\n",
            "\t Val. Loss: 0.616 |  Val. Acc: 66.36%\n",
            "Trained model saved\n",
            "Epoch: 04 | Epoch Time: 0m 3s\n",
            "\tTrain Loss: 0.434 | Train Acc: 80.92%\n",
            "\t Val. Loss: 0.636 |  Val. Acc: 62.57%\n",
            "Trained model saved\n",
            "Epoch: 05 | Epoch Time: 0m 4s\n",
            "\tTrain Loss: 0.390 | Train Acc: 82.83%\n",
            "\t Val. Loss: 0.669 |  Val. Acc: 71.50%\n",
            "Trained model saved\n",
            "Epoch: 06 | Epoch Time: 0m 3s\n",
            "\tTrain Loss: 0.361 | Train Acc: 84.86%\n",
            "\t Val. Loss: 0.688 |  Val. Acc: 70.14%\n",
            "Trained model saved\n",
            "Epoch: 07 | Epoch Time: 0m 3s\n",
            "\tTrain Loss: 0.315 | Train Acc: 87.71%\n",
            "\t Val. Loss: 0.708 |  Val. Acc: 70.41%\n",
            "Trained model saved\n",
            "Epoch: 08 | Epoch Time: 0m 4s\n",
            "\tTrain Loss: 0.329 | Train Acc: 86.33%\n",
            "\t Val. Loss: 0.799 |  Val. Acc: 71.05%\n",
            "Trained model saved\n",
            "Epoch: 09 | Epoch Time: 0m 3s\n",
            "\tTrain Loss: 0.282 | Train Acc: 88.86%\n",
            "\t Val. Loss: 0.783 |  Val. Acc: 70.73%\n",
            "Trained model saved\n",
            "Epoch: 10 | Epoch Time: 0m 3s\n",
            "\tTrain Loss: 0.250 | Train Acc: 90.61%\n",
            "\t Val. Loss: 0.771 |  Val. Acc: 71.26%\n",
            "Trained model saved\n",
            "Epoch: 11 | Epoch Time: 0m 4s\n",
            "\tTrain Loss: 0.249 | Train Acc: 90.53%\n",
            "\t Val. Loss: 0.751 |  Val. Acc: 72.10%\n",
            "Trained model saved\n",
            "Epoch: 12 | Epoch Time: 0m 3s\n",
            "\tTrain Loss: 0.232 | Train Acc: 91.00%\n",
            "\t Val. Loss: 0.745 |  Val. Acc: 72.21%\n",
            "Trained model saved\n",
            "Epoch: 13 | Epoch Time: 0m 3s\n",
            "\tTrain Loss: 0.208 | Train Acc: 92.44%\n",
            "\t Val. Loss: 0.810 |  Val. Acc: 72.01%\n",
            "Trained model saved\n",
            "Epoch: 14 | Epoch Time: 0m 4s\n",
            "\tTrain Loss: 0.197 | Train Acc: 92.80%\n",
            "\t Val. Loss: 0.785 |  Val. Acc: 71.99%\n",
            "Trained model saved\n",
            "Epoch: 15 | Epoch Time: 0m 3s\n",
            "\tTrain Loss: 0.279 | Train Acc: 89.24%\n",
            "\t Val. Loss: 0.754 |  Val. Acc: 71.23%\n",
            "Trained model saved\n",
            "Epoch: 16 | Epoch Time: 0m 3s\n",
            "\tTrain Loss: 0.243 | Train Acc: 90.76%\n",
            "\t Val. Loss: 0.761 |  Val. Acc: 72.40%\n",
            "Trained model saved\n",
            "Epoch: 17 | Epoch Time: 0m 4s\n",
            "\tTrain Loss: 0.248 | Train Acc: 90.66%\n",
            "\t Val. Loss: 0.766 |  Val. Acc: 69.28%\n",
            "Trained model saved\n",
            "Epoch: 18 | Epoch Time: 0m 3s\n",
            "\tTrain Loss: 0.278 | Train Acc: 88.51%\n",
            "\t Val. Loss: 0.800 |  Val. Acc: 70.59%\n",
            "Trained model saved\n",
            "Epoch: 19 | Epoch Time: 0m 3s\n",
            "\tTrain Loss: 0.234 | Train Acc: 91.17%\n",
            "\t Val. Loss: 0.752 |  Val. Acc: 69.75%\n",
            "Trained model saved\n",
            "Epoch: 20 | Epoch Time: 0m 4s\n",
            "\tTrain Loss: 0.310 | Train Acc: 86.95%\n",
            "\t Val. Loss: 0.764 |  Val. Acc: 68.68%\n",
            "Trained model saved\n",
            "Epoch: 21 | Epoch Time: 0m 3s\n",
            "\tTrain Loss: 0.438 | Train Acc: 78.45%\n",
            "\t Val. Loss: 0.682 |  Val. Acc: 57.11%\n",
            "Trained model saved\n",
            "Epoch: 22 | Epoch Time: 0m 3s\n",
            "\tTrain Loss: 0.533 | Train Acc: 72.57%\n",
            "\t Val. Loss: 0.724 |  Val. Acc: 58.13%\n",
            "Trained model saved\n",
            "Epoch: 23 | Epoch Time: 0m 4s\n",
            "\tTrain Loss: 0.483 | Train Acc: 75.91%\n",
            "\t Val. Loss: 0.692 |  Val. Acc: 63.06%\n",
            "Trained model saved\n",
            "Epoch: 24 | Epoch Time: 0m 3s\n",
            "\tTrain Loss: 0.434 | Train Acc: 79.88%\n",
            "\t Val. Loss: 0.825 |  Val. Acc: 64.25%\n",
            "Trained model saved\n",
            "Epoch: 25 | Epoch Time: 0m 3s\n",
            "\tTrain Loss: 0.444 | Train Acc: 78.09%\n",
            "\t Val. Loss: 0.734 |  Val. Acc: 59.07%\n",
            "Trained model saved\n",
            "Epoch: 26 | Epoch Time: 0m 4s\n",
            "\tTrain Loss: 0.451 | Train Acc: 78.09%\n",
            "\t Val. Loss: 0.740 |  Val. Acc: 58.74%\n",
            "Trained model saved\n",
            "Epoch: 27 | Epoch Time: 0m 4s\n",
            "\tTrain Loss: 0.448 | Train Acc: 77.88%\n",
            "\t Val. Loss: 0.748 |  Val. Acc: 60.19%\n",
            "Trained model saved\n",
            "Epoch: 28 | Epoch Time: 0m 3s\n",
            "\tTrain Loss: 0.402 | Train Acc: 81.10%\n",
            "\t Val. Loss: 0.752 |  Val. Acc: 63.25%\n",
            "Trained model saved\n",
            "Epoch: 29 | Epoch Time: 0m 4s\n",
            "\tTrain Loss: 0.366 | Train Acc: 83.60%\n",
            "\t Val. Loss: 0.767 |  Val. Acc: 67.62%\n",
            "Trained model saved\n",
            "Epoch: 30 | Epoch Time: 0m 4s\n",
            "\tTrain Loss: 0.366 | Train Acc: 84.04%\n",
            "\t Val. Loss: 0.819 |  Val. Acc: 59.11%\n",
            "Trained model saved\n",
            "Epoch: 31 | Epoch Time: 0m 3s\n",
            "\tTrain Loss: 0.378 | Train Acc: 82.90%\n",
            "\t Val. Loss: 0.683 |  Val. Acc: 56.75%\n",
            "Trained model saved\n",
            "Epoch: 32 | Epoch Time: 0m 3s\n",
            "\tTrain Loss: 0.409 | Train Acc: 80.31%\n",
            "\t Val. Loss: 0.754 |  Val. Acc: 67.08%\n",
            "Trained model saved\n",
            "Epoch: 33 | Epoch Time: 0m 4s\n",
            "\tTrain Loss: 0.386 | Train Acc: 82.21%\n",
            "\t Val. Loss: 0.786 |  Val. Acc: 66.77%\n",
            "Trained model saved\n",
            "Epoch: 34 | Epoch Time: 0m 3s\n",
            "\tTrain Loss: 0.280 | Train Acc: 88.63%\n",
            "\t Val. Loss: 0.859 |  Val. Acc: 68.83%\n",
            "Trained model saved\n",
            "Epoch: 35 | Epoch Time: 0m 3s\n",
            "\tTrain Loss: 0.271 | Train Acc: 89.51%\n",
            "\t Val. Loss: 0.837 |  Val. Acc: 68.06%\n",
            "Trained model saved\n",
            "Epoch: 36 | Epoch Time: 0m 4s\n",
            "\tTrain Loss: 0.276 | Train Acc: 88.56%\n",
            "\t Val. Loss: 0.835 |  Val. Acc: 69.54%\n",
            "Trained model saved\n",
            "Epoch: 37 | Epoch Time: 0m 3s\n",
            "\tTrain Loss: 0.227 | Train Acc: 91.43%\n",
            "\t Val. Loss: 0.850 |  Val. Acc: 68.99%\n",
            "Trained model saved\n",
            "Epoch: 38 | Epoch Time: 0m 3s\n",
            "\tTrain Loss: 0.356 | Train Acc: 83.90%\n",
            "\t Val. Loss: 0.839 |  Val. Acc: 65.22%\n",
            "Trained model saved\n",
            "Epoch: 39 | Epoch Time: 0m 4s\n",
            "\tTrain Loss: 0.364 | Train Acc: 84.39%\n",
            "\t Val. Loss: 0.814 |  Val. Acc: 60.92%\n",
            "Trained model saved\n",
            "Epoch: 40 | Epoch Time: 0m 3s\n",
            "\tTrain Loss: 0.289 | Train Acc: 87.86%\n",
            "\t Val. Loss: 0.819 |  Val. Acc: 68.90%\n",
            "Trained model saved\n",
            "Epoch: 41 | Epoch Time: 0m 3s\n",
            "\tTrain Loss: 0.244 | Train Acc: 90.73%\n",
            "\t Val. Loss: 0.938 |  Val. Acc: 69.94%\n",
            "Trained model saved\n",
            "Epoch: 42 | Epoch Time: 0m 4s\n",
            "\tTrain Loss: 0.302 | Train Acc: 86.96%\n",
            "\t Val. Loss: 0.820 |  Val. Acc: 66.71%\n",
            "Trained model saved\n",
            "Epoch: 43 | Epoch Time: 0m 3s\n",
            "\tTrain Loss: 0.230 | Train Acc: 91.05%\n",
            "\t Val. Loss: 0.808 |  Val. Acc: 66.56%\n",
            "Trained model saved\n",
            "Epoch: 44 | Epoch Time: 0m 3s\n",
            "\tTrain Loss: 0.193 | Train Acc: 92.69%\n",
            "\t Val. Loss: 0.897 |  Val. Acc: 71.37%\n",
            "Trained model saved\n",
            "Epoch: 45 | Epoch Time: 0m 4s\n",
            "\tTrain Loss: 0.186 | Train Acc: 93.18%\n",
            "\t Val. Loss: 0.947 |  Val. Acc: 71.84%\n",
            "Trained model saved\n",
            "Epoch: 46 | Epoch Time: 0m 3s\n",
            "\tTrain Loss: 0.232 | Train Acc: 90.55%\n",
            "\t Val. Loss: 0.941 |  Val. Acc: 69.45%\n",
            "Trained model saved\n",
            "Epoch: 47 | Epoch Time: 0m 3s\n",
            "\tTrain Loss: 0.194 | Train Acc: 92.40%\n",
            "\t Val. Loss: 0.901 |  Val. Acc: 71.41%\n",
            "Trained model saved\n",
            "Epoch: 48 | Epoch Time: 0m 4s\n",
            "\tTrain Loss: 0.159 | Train Acc: 94.10%\n",
            "\t Val. Loss: 0.952 |  Val. Acc: 69.95%\n",
            "Trained model saved\n",
            "Epoch: 49 | Epoch Time: 0m 3s\n",
            "\tTrain Loss: 0.155 | Train Acc: 94.20%\n",
            "\t Val. Loss: 1.000 |  Val. Acc: 71.78%\n",
            "Trained model saved\n",
            "Epoch: 50 | Epoch Time: 0m 3s\n",
            "\tTrain Loss: 0.199 | Train Acc: 92.54%\n",
            "\t Val. Loss: 1.194 |  Val. Acc: 70.90%\n",
            "------------------END RUNNING EPOCHS:  [50]----------------------------------------\n"
          ]
        }
      ],
      "source": [
        "N_EPOCHS = [5,10,20,50]\n",
        "\n",
        "best_valid_loss = float('inf')\n",
        "def run(epochs):\n",
        "  global best_valid_loss\n",
        "  print(f\"------------------RUNNING EPOCHS:  [{epochs}]----------------------------------------\")\n",
        "  for epoch in range(epochs):\n",
        "\n",
        "      start_time = time.time()\n",
        "\n",
        "      train_loss, train_acc = train(model, train_iterator, optimizer, criterion)\n",
        "      valid_loss, valid_acc = evaluate(model, valid_iterator, criterion)\n",
        "\n",
        "      end_time = time.time()\n",
        "\n",
        "      epoch_mins, epoch_secs = epoch_time(start_time, end_time)\n",
        "\n",
        "      if valid_loss < best_valid_loss:\n",
        "          best_valid_loss = valid_loss\n",
        "          torch.save(model.state_dict(), f'tut1-model{epochs}.pt')\n",
        "          print(\"Trained model saved\")\n",
        "      else:\n",
        "        # ADDED TO CHECK THE VALIDATION ACCURACY OF THE MODEL TRAINED ON 20 AND 50 EPOCHS\n",
        "        torch.save(model.state_dict(), f'tut1-model{epochs}.pt')\n",
        "        print(\"Trained model saved\")\n",
        "\n",
        "      print(f'Epoch: {epoch+1:02} | Epoch Time: {epoch_mins}m {epoch_secs}s')\n",
        "      print(f'\\tTrain Loss: {train_loss:.3f} | Train Acc: {train_acc*100:.2f}%')\n",
        "      print(f'\\t Val. Loss: {valid_loss:.3f} |  Val. Acc: {valid_acc*100:.2f}%')\n",
        "  print(f\"------------------END RUNNING EPOCHS:  [{epochs}]----------------------------------------\")\n",
        "\n",
        "for epoch in N_EPOCHS[2:]:\n",
        "  run(epochs=epoch)\n"
      ]
    },
    {
      "cell_type": "markdown",
      "metadata": {
        "id": "4zxuQwH0H1tV"
      },
      "source": [
        "You may have noticed the loss is not really decreasing and the accuracy is poor. This is due to several issues with the model which we'll improve in the next notebook.\n",
        "\n",
        "Finally, the metric we actually care about, the test loss and accuracy, which we get from our parameters that gave us the best validation loss."
      ]
    },
    {
      "cell_type": "code",
      "execution_count": 34,
      "metadata": {
        "id": "49vGHz2WH1tV",
        "outputId": "b7624605-7484-4426-e08f-40257ca4e517",
        "colab": {
          "base_uri": "https://localhost:8080/"
        }
      },
      "outputs": [
        {
          "output_type": "stream",
          "name": "stdout",
          "text": [
            "TESTING FOR EPOCHS : [20]\n",
            "Test Loss: 0.662 | Test Acc: 60.91%\n",
            "TESTING FOR EPOCHS : [50]\n",
            "Test Loss: 1.094 | Test Acc: 72.00%\n"
          ]
        }
      ],
      "source": [
        "for epochs in N_EPOCHS[2:]:\n",
        "  try:\n",
        "    model.load_state_dict(torch.load(f'tut1-model{epochs}.pt'))\n",
        "\n",
        "    test_loss, test_acc = evaluate(model, test_iterator, criterion)\n",
        "    print(f\"TESTING FOR EPOCHS : [{epochs}]\")\n",
        "    print(f'Test Loss: {test_loss:.3f} | Test Acc: {test_acc*100:.2f}%')\n",
        "  except FileNotFoundError:\n",
        "    pass"
      ]
    },
    {
      "cell_type": "markdown",
      "metadata": {
        "id": "fIO3ZeBgH1tV"
      },
      "source": [
        "## Next Steps\n",
        "\n",
        "In the next notebook, the improvements we will make are:\n",
        "- packed padded sequences\n",
        "- pre-trained word embeddings\n",
        "- different RNN architecture\n",
        "- bidirectional RNN\n",
        "- multi-layer RNN\n",
        "- regularization\n",
        "- a different optimizer\n",
        "\n",
        "This will allow us to achieve ~84% accuracy."
      ]
    }
  ],
  "metadata": {
    "kernelspec": {
      "display_name": "Python 3",
      "language": "python",
      "name": "python3"
    },
    "language_info": {
      "codemirror_mode": {
        "name": "ipython",
        "version": 3
      },
      "file_extension": ".py",
      "mimetype": "text/x-python",
      "name": "python",
      "nbconvert_exporter": "python",
      "pygments_lexer": "ipython3",
      "version": "3.8.5"
    },
    "colab": {
      "provenance": [],
      "include_colab_link": true
    },
    "accelerator": "GPU",
    "gpuClass": "standard"
  },
  "nbformat": 4,
  "nbformat_minor": 0
}