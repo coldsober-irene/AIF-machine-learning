{
  "nbformat": 4,
  "nbformat_minor": 0,
  "metadata": {
    "colab": {
      "provenance": [],
      "authorship_tag": "ABX9TyOPwmS4cew0eVDF1wm6+HLb",
      "include_colab_link": true
    },
    "kernelspec": {
      "name": "python3",
      "display_name": "Python 3"
    },
    "language_info": {
      "name": "python"
    }
  },
  "cells": [
    {
      "cell_type": "markdown",
      "metadata": {
        "id": "view-in-github",
        "colab_type": "text"
      },
      "source": [
        "<a href=\"https://colab.research.google.com/github/coldsober-irene/AIF-machine-learning/blob/main/loading_trainedModel.ipynb\" target=\"_parent\"><img src=\"https://colab.research.google.com/assets/colab-badge.svg\" alt=\"Open In Colab\"/></a>"
      ]
    },
    {
      "cell_type": "code",
      "source": [
        "from google.colab import drive\n",
        "drive.mount(\"/content/drive\")"
      ],
      "metadata": {
        "id": "zgcYl-6p59jy"
      },
      "execution_count": null,
      "outputs": []
    },
    {
      "cell_type": "code",
      "execution_count": 4,
      "metadata": {
        "id": "eaKYDD_r5iGO"
      },
      "outputs": [],
      "source": [
        "import pickle\n",
        "with open(\"/content/drive/MyDrive/AIF progress/machine learning/data/linear.pkl\", \"rb\") as file:\n",
        "  model = pickle.load(file)"
      ]
    },
    {
      "cell_type": "code",
      "source": [
        "forecasted = model.predict([[3, 1900]])"
      ],
      "metadata": {
        "id": "W2tU8Vlm5zbX"
      },
      "execution_count": null,
      "outputs": []
    },
    {
      "cell_type": "code",
      "source": [
        "print(\"prediction: \", forecasted)"
      ],
      "metadata": {
        "colab": {
          "base_uri": "https://localhost:8080/"
        },
        "id": "80U3Sygk6jxF",
        "outputId": "f3b31778-b495-4f82-f912-5b8707eda3e8"
      },
      "execution_count": 8,
      "outputs": [
        {
          "output_type": "stream",
          "name": "stdout",
          "text": [
            "prediction:  [403.71626423]\n"
          ]
        }
      ]
    }
  ]
}