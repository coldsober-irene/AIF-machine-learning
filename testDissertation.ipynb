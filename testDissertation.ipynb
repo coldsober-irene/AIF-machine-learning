{
  "nbformat": 4,
  "nbformat_minor": 0,
  "metadata": {
    "colab": {
      "provenance": [],
      "authorship_tag": "ABX9TyPhsuuTZ82K22QLPI/YIQMD",
      "include_colab_link": true
    },
    "kernelspec": {
      "name": "python3",
      "display_name": "Python 3"
    },
    "language_info": {
      "name": "python"
    }
  },
  "cells": [
    {
      "cell_type": "markdown",
      "metadata": {
        "id": "view-in-github",
        "colab_type": "text"
      },
      "source": [
        "<a href=\"https://colab.research.google.com/github/coldsober-irene/AIF-machine-learning/blob/main/testDissertation.ipynb\" target=\"_parent\"><img src=\"https://colab.research.google.com/assets/colab-badge.svg\" alt=\"Open In Colab\"/></a>"
      ]
    },
    {
      "cell_type": "code",
      "source": [
        "!pip install control"
      ],
      "metadata": {
        "id": "00NLA79kHd-S"
      },
      "execution_count": null,
      "outputs": []
    },
    {
      "cell_type": "code",
      "execution_count": 3,
      "metadata": {
        "id": "iUI79usuAZj_"
      },
      "outputs": [],
      "source": [
        "import numpy as np\n",
        "import math\n",
        "import control"
      ]
    },
    {
      "cell_type": "markdown",
      "source": [
        "**Plant**\n",
        "\n",
        "$X(k+1) = Ax(k) + Bu(k)$\n",
        "\n",
        "$y(k) = Cx(k)$\n",
        "\n",
        "**Augmented state space**\n",
        "\n",
        "$$\\begin{bmatrix}\n",
        "\\Delta x(k+1) \\\\\\\\ y(k+1)\n",
        "\\end {bmatrix}\n",
        "=\n",
        "\\begin{bmatrix}\n",
        "A_p & 0_{s*s}\\\\\\\\ C_p * A_p & I\n",
        "\\end {bmatrix}\n",
        "\\begin{bmatrix}\n",
        "\\Delta x(k) \\\\\\\\ y(k)\n",
        "\\end {bmatrix}\n",
        "+\n",
        "\\begin{bmatrix}\n",
        "B_p \\\\\\\\ C_p * B_p\n",
        "\\end {bmatrix}\n",
        "\\Delta u(k)$$"
      ],
      "metadata": {
        "id": "hrbxzpDYAf_c"
      }
    },
    {
      "cell_type": "markdown",
      "source": [
        "#form plant model"
      ],
      "metadata": {
        "id": "slOz0qFvDXMd"
      }
    },
    {
      "cell_type": "code",
      "source": [],
      "metadata": {
        "id": "5Vg4o1LREn0W"
      },
      "execution_count": 3,
      "outputs": []
    },
    {
      "cell_type": "code",
      "source": [
        "\n",
        "class Modeling:\n",
        "  def __init__(self, H1 = 10, H2 = 12, k1 = 4.3, k2 = 4.7, k3 = 24, area = 32, Np = 10, Nc = 4):\n",
        "    self.H1 = H1\n",
        "    self.H2 = H2\n",
        "    self.k1 = k1\n",
        "    self.k2 = k2\n",
        "    self.k3 = k3\n",
        "    self.area = area\n",
        "    self.Np = Np\n",
        "    self.Nc = Nc\n",
        "    a11 = (-1 / self.area) * ((self.k1 / math.sqrt(self.H1)) + (self.k3 / math.sqrt(abs(self.H1 - self.H2))))\n",
        "    a12 = (self.k3/ (2*self.area)) * (1 / math.sqrt(abs(self.H1 - self.H2)))\n",
        "    a21 = (self.k3/ (2*self.area)) * (1 / math.sqrt(abs(self.H1 - self.H2)))\n",
        "    a22 = (-1 / self.area) * ((self.k2 / math.sqrt(self.H2)) + (self.k3 / math.sqrt(abs(self.H1 - self.H2))))\n",
        "\n",
        "    self.A_p = np.array([[a11, a12],\n",
        "                [a21, a22]\n",
        "                ])\n",
        "    self.B_p = np.array([[1/self.area, 0],\n",
        "                [0, 1/self.area]])\n",
        "    self.C_p = np.eye(2, 2)\n",
        "    self.D_p = np.zeros((2, 2))\n",
        "\n",
        "  def discrete(self, Ts = 0.1, method = 'zoh'):\n",
        "    Ts = 0.1\n",
        "    # Create a state-space system\n",
        "    sys_continuous = control.ss(self.A_p, self.B_p, self.C_p, self.D_p)\n",
        "\n",
        "    # Discretize the system\n",
        "    sys_discrete = sys_continuous.sample(Ts, method=method)\n",
        "\n",
        "    Ad = sys_discrete.A\n",
        "    Bd = sys_discrete.B\n",
        "    Cd = sys_discrete.C\n",
        "    Dd = sys_discrete.D\n",
        "    return Ad, Bd, Cd, Dd\n",
        "\n",
        "  def augment(self):\n",
        "    Ad, Bd, Cd, Dd = self.discrete()\n",
        "    states, _ = Ad.shape\n",
        "    _, inputs = Bd.shape\n",
        "    outputs, _ = Cd.shape\n",
        "\n",
        "    A1 = np.hstack((Ad, np.zeros((states, outputs))))\n",
        "    A2 = np.hstack((Cd @ Ad, np.eye(outputs, outputs)))\n",
        "    self.Ae = np.vstack((A1, A2))\n",
        "    self.Be = np.vstack((Bd,Cd @ Bd))\n",
        "    self.Ce = np.hstack((np.zeros((outputs, outputs)), np.eye(outputs, outputs)))\n",
        "    return self.Ae, self.Be, self.Ce\n",
        "\n",
        "  def mpc_matrices(self, Ref):\n",
        "    Ae, Be, Ce = self.augment()\n",
        "    F = np.empty((Ce @ Ae).shape)\n",
        "    Phi = np.empty((2, self.Np))\n",
        "    phi_dimx, phi_dimy = (Ce @ Ae @ Be).shape\n",
        "\n",
        "    print(f\"--------..>> : {phi_dimx}, {phi_dimy}\")\n",
        "    for i in range(1, self.Np+1):\n",
        "      F = np.vstack((F, Ce @ (np.linalg.matrix_power(Ae, i))))\n",
        "      row =np.empty((2, 2))\n",
        "      for j in range(self.Nc):\n",
        "        Apower = i - j\n",
        "        if Apower < 0:\n",
        "          row = np.hstack((row, np.zeros((phi_dimx, phi_dimy))))\n",
        "        else:\n",
        "          row = np.hstack((row, (Ce @ np.linalg.matrix_power(Ae, Apower)) @ Be))\n",
        "\n",
        "      Phi = np.vstack((Phi, row))\n",
        "    Phi = Phi[2:, :]\n",
        "    print(\"shape of Phi : \", Phi.shape)\n",
        "    F = F[2:, :]\n",
        "\n",
        "    # Phi.T @ Phi\n",
        "    x_ki = [0, 0, 1, 1]\n",
        "    x_ki = np.array(x_ki)\n",
        "    x_ki = x_ki.T\n",
        "    Ref = np.array([Ref[0] if (i % 2 == 0) else Ref[1] for i in range(self.Np * 2)])\n",
        "    M1 = Phi.T @ Phi\n",
        "    M2 = Phi.T @ F\n",
        "    M3 = Phi.T @ Ref\n",
        "    Rbar = 10\n",
        "    DU = np.linalg.inv(M1) @ (M3 - (M2 @ x_ki))\n",
        "    list_version = DU.tolist()\n",
        "    print(\"Control trajectory: \", list_version)\n",
        "plant = Modeling()\n",
        "disc = plant.mpc_matrices(Ref = [10, 12])\n",
        "# print(disc)"
      ],
      "metadata": {
        "colab": {
          "base_uri": "https://localhost:8080/"
        },
        "id": "9y9ftLxgAfnh",
        "outputId": "1e3507b2-76de-4c13-b3b0-89081b486086"
      },
      "execution_count": 25,
      "outputs": [
        {
          "output_type": "stream",
          "name": "stdout",
          "text": [
            "--------..>> : 2, 2\n",
            "shape of Phi :  (20, 10)\n",
            "Control trajectory:  [437.20346184878144, -8.645395729807205, 1438.650507260696, 1709.491190622677, -486.2308531355811, 367.2901461845031, -1139.0383737757802, -1813.2183850458823, 9.313225746154785e-10, -4.190951585769653e-09]\n"
          ]
        }
      ]
    }
  ]
}